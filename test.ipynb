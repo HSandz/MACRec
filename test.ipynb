{
 "cells": [
  {
   "cell_type": "code",
   "execution_count": 1,
   "metadata": {},
   "outputs": [],
   "source": [
    "from reflexion4rec.agents import ReactAgent"
   ]
  },
  {
   "cell_type": "code",
   "execution_count": 3,
   "metadata": {},
   "outputs": [
    {
     "name": "stdout",
     "output_type": "stream",
     "text": [
      "sk-wu9r49jGPV2ypCBSOWQL9SgpdeZfKZNQWb8DMhi1T6X7DUl7\n"
     ]
    }
   ],
   "source": [
    "import os\n",
    "import openai\n",
    "\n",
    "openai.api_base = \"https://api.closeai-proxy.xyz/v1\"\n",
    "\n",
    "os.environ['OPENAI_API_KEY'] = \"sk-wu9r49jGPV2ypCBSOWQL9SgpdeZfKZNQWb8DMhi1T6X7DUl7\"  # only for test :)\n",
    "print(os.environ['OPENAI_API_KEY'])"
   ]
  },
  {
   "cell_type": "code",
   "execution_count": 8,
   "metadata": {},
   "outputs": [],
   "source": [
    "from reflexion4rec.llms import AnyOpenAILLM\n",
    "\n",
    "react_llm = AnyOpenAILLM(\n",
    "    temperature=0,\n",
    "    max_tokens=100,\n",
    "    model_name=\"gpt-3.5-turbo\",\n",
    "    model_kwargs={\"stop\": \"\\n\"},\n",
    "    openai_api_key=os.environ['OPENAI_API_KEY'],\n",
    "    # openai_api_base=\"https://api.closeai-proxy.xyz/v1\"\n",
    ")"
   ]
  },
  {
   "cell_type": "code",
   "execution_count": 5,
   "metadata": {},
   "outputs": [
    {
     "name": "stdout",
     "output_type": "stream",
     "text": [
      "input_variables=['examples', 'input', 'scratchpad'] output_parser=None partial_variables={} template='Solve a rating prediction task by having a Thought, then Finish with your answer. Thought can reason about the current situation. Finish[answer] returns the answer and finishes the task.{examples}\\n Input: {input}{scratchpad}' template_format='f-string' validate_template=True\n"
     ]
    }
   ],
   "source": [
    "from reflexion4rec.prompts import read_template\n",
    "\n",
    "react_prompt = read_template(\"config/prompts/react_prompt.json\")['test_react_prompt']"
   ]
  },
  {
   "cell_type": "code",
   "execution_count": 16,
   "metadata": {},
   "outputs": [
    {
     "data": {
      "text/plain": [
       "\"[user_id]: user_821\\n [user_profile]:\\nAge: 37\\nGender:male\\nOccupation: engineer\\n [historical interactions]:\\nTitle: Liar Liar (1997), Release Date: 21-Mar-1997, Video Release Date: unknown, Genres: Comedy (rating: 4)\\nTitle: Anne Frank Remembered (1995), Release Date: 23-Feb-1996, Video Release Date: unknown, Genres: Documentary (rating: 5)\\nTitle: Fargo (1996), Release Date: 14-Feb-1997, Video Release Date: unknown, Genres: Crime|Drama|Thriller (rating: 2)\\nTitle: Sense and Sensibility (1995), Release Date: 01-Jan-1995, Video Release Date: unknown, Genres: Drama|Romance (rating: 5)\\nTitle: Postino, Il (1994), Release Date: 01-Jan-1994, Video Release Date: unknown, Genres: Drama|Romance (rating: 4)\\nTitle: First Wives Club, The (1996), Release Date: 14-Sep-1996, Video Release Date: unknown, Genres: Comedy (rating: 4)\\nTitle: Rock, The (1996), Release Date: 07-Jun-1996, Video Release Date: unknown, Genres: Action|Adventure|Thriller (rating: 3)\\nTitle: Happy Gilmore (1996), Release Date: 16-Feb-1996, Video Release Date: unknown, Genres: Comedy (rating: 3)\\nTitle: Jerry Maguire (1996), Release Date: 13-Dec-1996, Video Release Date: unknown, Genres: Drama|Romance (rating: 5)\\nTitle: Return of the Jedi (1983), Release Date: 14-Mar-1997, Video Release Date: unknown, Genres: Action|Adventure|Romance|Sci-Fi|War (rating: 4)\\nTitle: Tin Cup (1996), Release Date: 16-Aug-1996, Video Release Date: unknown, Genres: Comedy|Romance (rating: 3)\\nTitle: Spitfire Grill, The (1996), Release Date: 06-Sep-1996, Video Release Date: unknown, Genres: Drama (rating: 5)\\nTitle: Hercules (1997), Release Date: 27-Jun-1997, Video Release Date: unknown, Genres: Adventure|Animation|Childrens|Comedy|Musical (rating: 4)\\nTitle: That Thing You Do! (1996), Release Date: 28-Sep-1996, Video Release Date: unknown, Genres: Comedy (rating: 5)\\nTitle: Ghost and the Darkness, The (1996), Release Date: 11-Oct-1996, Video Release Date: unknown, Genres: Action|Adventure (rating: 3)\\nTitle: Cry, the Beloved Country (1995), Release Date: 01-Jan-1995, Video Release Date: unknown, Genres: Drama (rating: 5)\\nTitle: Independence Day (ID4) (1996), Release Date: 03-Jul-1996, Video Release Date: unknown, Genres: Action|Sci-Fi|War (rating: 3)\\nTitle: Courage Under Fire (1996), Release Date: 08-Mar-1996, Video Release Date: unknown, Genres: Drama|War (rating: 4)\\nTitle: Sabrina (1995), Release Date: 01-Jan-1995, Video Release Date: unknown, Genres: Comedy|Romance (rating: 5)\\nTitle: Toy Story (1995), Release Date: 01-Jan-1995, Video Release Date: unknown, Genres: Animation|Childrens|Comedy (rating: 5)\\nTitle: James and the Giant Peach (1996), Release Date: 12-Apr-1996, Video Release Date: unknown, Genres: Animation|Childrens|Musical (rating: 3)\\nTitle: Mr. Holland's Opus (1995), Release Date: 29-Jan-1996, Video Release Date: unknown, Genres: Drama (rating: 5)\\nTitle: Phenomenon (1996), Release Date: 29-Jun-1996, Video Release Date: unknown, Genres: Drama|Romance (rating: 4)\\nTitle: Family Thing, A (1996), Release Date: 23-Mar-1996, Video Release Date: unknown, Genres: Comedy|Drama (rating: 5)\\nTitle: Willy Wonka and the Chocolate Factory (1971), Release Date: 01-Jan-1971, Video Release Date: unknown, Genres: Adventure|Childrens|Comedy (rating: 4)\\nTitle: Mission: Impossible (1996), Release Date: 22-May-1996, Video Release Date: unknown, Genres: Action|Adventure|Mystery (rating: 4)\\nTitle: Adventures of Pinocchio, The (1996), Release Date: 26-Jul-1996, Video Release Date: unknown, Genres: Adventure|Childrens (rating: 5)\\nTitle: Eraser (1996), Release Date: 21-Jun-1996, Video Release Date: unknown, Genres: Action|Thriller (rating: 3)\\nTitle: Truth About Cats & Dogs, The (1996), Release Date: 26-Apr-1996, Video Release Date: unknown, Genres: Comedy|Romance (rating: 4)\\nTitle: Ransom (1996), Release Date: 08-Nov-1996, Video Release Date: unknown, Genres: Drama|Thriller (rating: 4)\\nTitle: Diabolique (1996), Release Date: 01-Jan-1996, Video Release Date: unknown, Genres: Drama|Thriller (rating: 2)\\nTitle: Twister (1996), Release Date: 10-May-1996, Video Release Date: unknown, Genres: Action|Adventure|Thriller (rating: 3)\\nTitle: River Wild, The (1994), Release Date: 01-Jan-1994, Video Release Date: unknown, Genres: Action|Thriller (rating: 3)\\nTitle: Schindler's List (1993), Release Date: 01-Jan-1993, Video Release Date: unknown, Genres: Drama|War (rating: 5)\\nTitle: Braveheart (1995), Release Date: 16-Feb-1996, Video Release Date: unknown, Genres: Action|Drama|War (rating: 5)\\nTitle: Apollo 13 (1995), Release Date: 01-Jan-1995, Video Release Date: unknown, Genres: Action|Drama|Thriller (rating: 5)\\nTitle: Black Beauty (1994), Release Date: 01-Jan-1994, Video Release Date: unknown, Genres: Adventure|Childrens (rating: 5)\\nTitle: Apocalypse Now (1979), Release Date: 01-Jan-1979, Video Release Date: unknown, Genres: Drama|War (rating: 5)\\nTitle: One Flew Over the Cuckoo's Nest (1975), Release Date: 01-Jan-1975, Video Release Date: unknown, Genres: Drama (rating: 5)\\nTitle: Fugitive, The (1993), Release Date: 01-Jan-1993, Video Release Date: unknown, Genres: Action|Thriller (rating: 5)\\nTitle: Casablanca (1942), Release Date: 01-Jan-1942, Video Release Date: unknown, Genres: Drama|Romance|War (rating: 5)\\nTitle: Jaws (1975), Release Date: 01-Jan-1975, Video Release Date: unknown, Genres: Action|Horror (rating: 5)\\nTitle: My Left Foot (1989), Release Date: 01-Jan-1989, Video Release Date: unknown, Genres: Drama (rating: 5)\\nTitle: Around the World in 80 Days (1956), Release Date: 01-Jan-1956, Video Release Date: unknown, Genres: Adventure|Comedy (rating: 5)\\nTitle: Shawshank Redemption, The (1994), Release Date: 01-Jan-1994, Video Release Date: unknown, Genres: Drama (rating: 5)\\nTitle: To Kill a Mockingbird (1962), Release Date: 01-Jan-1962, Video Release Date: unknown, Genres: Drama (rating: 5)\\nTitle: Singin' in the Rain (1952), Release Date: 01-Jan-1952, Video Release Date: unknown, Genres: Musical|Romance (rating: 5)\\nTitle: Raiders of the Lost Ark (1981), Release Date: 01-Jan-1981, Video Release Date: unknown, Genres: Action|Adventure (rating: 5)\\nTitle: Butch Cassidy and the Sundance Kid (1969), Release Date: 01-Jan-1969, Video Release Date: unknown, Genres: Action|Comedy|Western (rating: 4)\\nTitle: Kid in King Arthur's Court, A (1995), Release Date: 01-Jan-1995, Video Release Date: unknown, Genres: Adventure|Childrens|Comedy|Fantasy|Romance|Sci-Fi (rating: 3)\\nTitle: Room with a View, A (1986), Release Date: 01-Jan-1986, Video Release Date: unknown, Genres: Drama|Romance (rating: 5)\\nTitle: Pulp Fiction (1994), Release Date: 01-Jan-1994, Video Release Date: unknown, Genres: Crime|Drama (rating: 5)\\nTitle: Silence of the Lambs, The (1991), Release Date: 01-Jan-1991, Video Release Date: unknown, Genres: Drama|Thriller (rating: 5)\\nTitle: Dances with Wolves (1990), Release Date: 01-Jan-1990, Video Release Date: unknown, Genres: Adventure|Drama|Western (rating: 5)\\nTitle: Enchanted April (1991), Release Date: 01-Jan-1991, Video Release Date: unknown, Genres: Drama (rating: 5)\\nTitle: Bonnie and Clyde (1967), Release Date: 01-Jan-1967, Video Release Date: unknown, Genres: Crime|Drama (rating: 4)\\nTitle: Wizard of Oz, The (1939), Release Date: 01-Jan-1939, Video Release Date: unknown, Genres: Adventure|Childrens|Drama|Musical (rating: 5)\\nTitle: Top Gun (1986), Release Date: 01-Jan-1986, Video Release Date: unknown, Genres: Action|Romance (rating: 4)\\nTitle: Maltese Falcon, The (1941), Release Date: 01-Jan-1941, Video Release Date: unknown, Genres: Film-Noir|Mystery (rating: 5)\\nTitle: Aladdin (1992), Release Date: 01-Jan-1992, Video Release Date: unknown, Genres: Animation|Childrens|Comedy|Musical (rating: 5)\\nTitle: Four Weddings and a Funeral (1994), Release Date: 01-Jan-1994, Video Release Date: unknown, Genres: Comedy|Romance (rating: 4) \\n Which star rating will user_821 give item_71 with attributes Title: Lion King, The (1994), Release Date: 01-Jan-1994, Video Release Date: unknown, Genres: Animation|Childrens|Musical (1 being lowest and 5 being highest)\""
      ]
     },
     "execution_count": 16,
     "metadata": {},
     "output_type": "execute_result"
    }
   ],
   "source": [
    "import pandas as pd\n",
    "\n",
    "df = pd.read_csv(\"toy.csv\")\n",
    "df['item_attributes'] = np.array([\"Title: Lion King, The (1994), Release Date: 01-Jan-1994, Video Release Date: unknown, Genres: Animation|Childrens|Musical\"])\n",
    "\n",
    "data_prompt = read_template(\"config/prompts/rp.json\")[\"rp_data_prompt\"]\n",
    "test_data = data_prompt.format(\n",
    "                user_id=df['user_id'][0],\n",
    "                user_profile=df['user_profile'][0],\n",
    "                history=df['history'][0],\n",
    "                target_item_id=df['item_id'][0],\n",
    "                target_item_attributes=df['item_attributes'][0]\n",
    "            )\n",
    "test_data"
   ]
  },
  {
   "cell_type": "code",
   "execution_count": 19,
   "metadata": {},
   "outputs": [
    {
     "name": "stdout",
     "output_type": "stream",
     "text": [
      "Init: Solve a rating prediction task by having a Thought, then Finish with your answer. Thought can reason about the current situation. Finish[answer] returns the answer and finishes the task.\n",
      " Input: [user_id]: user_821\n",
      " [user_profile]:\n",
      "Age: 37\n",
      "Gender:male\n",
      "Occupation: engineer\n",
      " [historical interactions]:\n",
      "Title: Liar Liar (1997), Release Date: 21-Mar-1997, Video Release Date: unknown, Genres: Comedy (rating: 4)\n",
      "Title: Anne Frank Remembered (1995), Release Date: 23-Feb-1996, Video Release Date: unknown, Genres: Documentary (rating: 5)\n",
      "Title: Fargo (1996), Release Date: 14-Feb-1997, Video Release Date: unknown, Genres: Crime|Drama|Thriller (rating: 2)\n",
      "Title: Sense and Sensibility (1995), Release Date: 01-Jan-1995, Video Release Date: unknown, Genres: Drama|Romance (rating: 5)\n",
      "Title: Postino, Il (1994), Release Date: 01-Jan-1994, Video Release Date: unknown, Genres: Drama|Romance (rating: 4)\n",
      "Title: First Wives Club, The (1996), Release Date: 14-Sep-1996, Video Release Date: unknown, Genres: Comedy (rating: 4)\n",
      "Title: Rock, The (1996), Release Date: 07-Jun-1996, Video Release Date: unknown, Genres: Action|Adventure|Thriller (rating: 3)\n",
      "Title: Happy Gilmore (1996), Release Date: 16-Feb-1996, Video Release Date: unknown, Genres: Comedy (rating: 3)\n",
      "Title: Jerry Maguire (1996), Release Date: 13-Dec-1996, Video Release Date: unknown, Genres: Drama|Romance (rating: 5)\n",
      "Title: Return of the Jedi (1983), Release Date: 14-Mar-1997, Video Release Date: unknown, Genres: Action|Adventure|Romance|Sci-Fi|War (rating: 4)\n",
      "Title: Tin Cup (1996), Release Date: 16-Aug-1996, Video Release Date: unknown, Genres: Comedy|Romance (rating: 3)\n",
      "Title: Spitfire Grill, The (1996), Release Date: 06-Sep-1996, Video Release Date: unknown, Genres: Drama (rating: 5)\n",
      "Title: Hercules (1997), Release Date: 27-Jun-1997, Video Release Date: unknown, Genres: Adventure|Animation|Childrens|Comedy|Musical (rating: 4)\n",
      "Title: That Thing You Do! (1996), Release Date: 28-Sep-1996, Video Release Date: unknown, Genres: Comedy (rating: 5)\n",
      "Title: Ghost and the Darkness, The (1996), Release Date: 11-Oct-1996, Video Release Date: unknown, Genres: Action|Adventure (rating: 3)\n",
      "Title: Cry, the Beloved Country (1995), Release Date: 01-Jan-1995, Video Release Date: unknown, Genres: Drama (rating: 5)\n",
      "Title: Independence Day (ID4) (1996), Release Date: 03-Jul-1996, Video Release Date: unknown, Genres: Action|Sci-Fi|War (rating: 3)\n",
      "Title: Courage Under Fire (1996), Release Date: 08-Mar-1996, Video Release Date: unknown, Genres: Drama|War (rating: 4)\n",
      "Title: Sabrina (1995), Release Date: 01-Jan-1995, Video Release Date: unknown, Genres: Comedy|Romance (rating: 5)\n",
      "Title: Toy Story (1995), Release Date: 01-Jan-1995, Video Release Date: unknown, Genres: Animation|Childrens|Comedy (rating: 5)\n",
      "Title: James and the Giant Peach (1996), Release Date: 12-Apr-1996, Video Release Date: unknown, Genres: Animation|Childrens|Musical (rating: 3)\n",
      "Title: Mr. Holland's Opus (1995), Release Date: 29-Jan-1996, Video Release Date: unknown, Genres: Drama (rating: 5)\n",
      "Title: Phenomenon (1996), Release Date: 29-Jun-1996, Video Release Date: unknown, Genres: Drama|Romance (rating: 4)\n",
      "Title: Family Thing, A (1996), Release Date: 23-Mar-1996, Video Release Date: unknown, Genres: Comedy|Drama (rating: 5)\n",
      "Title: Willy Wonka and the Chocolate Factory (1971), Release Date: 01-Jan-1971, Video Release Date: unknown, Genres: Adventure|Childrens|Comedy (rating: 4)\n",
      "Title: Mission: Impossible (1996), Release Date: 22-May-1996, Video Release Date: unknown, Genres: Action|Adventure|Mystery (rating: 4)\n",
      "Title: Adventures of Pinocchio, The (1996), Release Date: 26-Jul-1996, Video Release Date: unknown, Genres: Adventure|Childrens (rating: 5)\n",
      "Title: Eraser (1996), Release Date: 21-Jun-1996, Video Release Date: unknown, Genres: Action|Thriller (rating: 3)\n",
      "Title: Truth About Cats & Dogs, The (1996), Release Date: 26-Apr-1996, Video Release Date: unknown, Genres: Comedy|Romance (rating: 4)\n",
      "Title: Ransom (1996), Release Date: 08-Nov-1996, Video Release Date: unknown, Genres: Drama|Thriller (rating: 4)\n",
      "Title: Diabolique (1996), Release Date: 01-Jan-1996, Video Release Date: unknown, Genres: Drama|Thriller (rating: 2)\n",
      "Title: Twister (1996), Release Date: 10-May-1996, Video Release Date: unknown, Genres: Action|Adventure|Thriller (rating: 3)\n",
      "Title: River Wild, The (1994), Release Date: 01-Jan-1994, Video Release Date: unknown, Genres: Action|Thriller (rating: 3)\n",
      "Title: Schindler's List (1993), Release Date: 01-Jan-1993, Video Release Date: unknown, Genres: Drama|War (rating: 5)\n",
      "Title: Braveheart (1995), Release Date: 16-Feb-1996, Video Release Date: unknown, Genres: Action|Drama|War (rating: 5)\n",
      "Title: Apollo 13 (1995), Release Date: 01-Jan-1995, Video Release Date: unknown, Genres: Action|Drama|Thriller (rating: 5)\n",
      "Title: Black Beauty (1994), Release Date: 01-Jan-1994, Video Release Date: unknown, Genres: Adventure|Childrens (rating: 5)\n",
      "Title: Apocalypse Now (1979), Release Date: 01-Jan-1979, Video Release Date: unknown, Genres: Drama|War (rating: 5)\n",
      "Title: One Flew Over the Cuckoo's Nest (1975), Release Date: 01-Jan-1975, Video Release Date: unknown, Genres: Drama (rating: 5)\n",
      "Title: Fugitive, The (1993), Release Date: 01-Jan-1993, Video Release Date: unknown, Genres: Action|Thriller (rating: 5)\n",
      "Title: Casablanca (1942), Release Date: 01-Jan-1942, Video Release Date: unknown, Genres: Drama|Romance|War (rating: 5)\n",
      "Title: Jaws (1975), Release Date: 01-Jan-1975, Video Release Date: unknown, Genres: Action|Horror (rating: 5)\n",
      "Title: My Left Foot (1989), Release Date: 01-Jan-1989, Video Release Date: unknown, Genres: Drama (rating: 5)\n",
      "Title: Around the World in 80 Days (1956), Release Date: 01-Jan-1956, Video Release Date: unknown, Genres: Adventure|Comedy (rating: 5)\n",
      "Title: Shawshank Redemption, The (1994), Release Date: 01-Jan-1994, Video Release Date: unknown, Genres: Drama (rating: 5)\n",
      "Title: To Kill a Mockingbird (1962), Release Date: 01-Jan-1962, Video Release Date: unknown, Genres: Drama (rating: 5)\n",
      "Title: Singin' in the Rain (1952), Release Date: 01-Jan-1952, Video Release Date: unknown, Genres: Musical|Romance (rating: 5)\n",
      "Title: Raiders of the Lost Ark (1981), Release Date: 01-Jan-1981, Video Release Date: unknown, Genres: Action|Adventure (rating: 5)\n",
      "Title: Butch Cassidy and the Sundance Kid (1969), Release Date: 01-Jan-1969, Video Release Date: unknown, Genres: Action|Comedy|Western (rating: 4)\n",
      "Title: Kid in King Arthur's Court, A (1995), Release Date: 01-Jan-1995, Video Release Date: unknown, Genres: Adventure|Childrens|Comedy|Fantasy|Romance|Sci-Fi (rating: 3)\n",
      "Title: Room with a View, A (1986), Release Date: 01-Jan-1986, Video Release Date: unknown, Genres: Drama|Romance (rating: 5)\n",
      "Title: Pulp Fiction (1994), Release Date: 01-Jan-1994, Video Release Date: unknown, Genres: Crime|Drama (rating: 5)\n",
      "Title: Silence of the Lambs, The (1991), Release Date: 01-Jan-1991, Video Release Date: unknown, Genres: Drama|Thriller (rating: 5)\n",
      "Title: Dances with Wolves (1990), Release Date: 01-Jan-1990, Video Release Date: unknown, Genres: Adventure|Drama|Western (rating: 5)\n",
      "Title: Enchanted April (1991), Release Date: 01-Jan-1991, Video Release Date: unknown, Genres: Drama (rating: 5)\n",
      "Title: Bonnie and Clyde (1967), Release Date: 01-Jan-1967, Video Release Date: unknown, Genres: Crime|Drama (rating: 4)\n",
      "Title: Wizard of Oz, The (1939), Release Date: 01-Jan-1939, Video Release Date: unknown, Genres: Adventure|Childrens|Drama|Musical (rating: 5)\n",
      "Title: Top Gun (1986), Release Date: 01-Jan-1986, Video Release Date: unknown, Genres: Action|Romance (rating: 4)\n",
      "Title: Maltese Falcon, The (1941), Release Date: 01-Jan-1941, Video Release Date: unknown, Genres: Film-Noir|Mystery (rating: 5)\n",
      "Title: Aladdin (1992), Release Date: 01-Jan-1992, Video Release Date: unknown, Genres: Animation|Childrens|Comedy|Musical (rating: 5)\n",
      "Title: Four Weddings and a Funeral (1994), Release Date: 01-Jan-1994, Video Release Date: unknown, Genres: Comedy|Romance (rating: 4) \n",
      " Which star rating will user_821 give item_71 with attributes Title: Lion King, The (1994), Release Date: 01-Jan-1994, Video Release Date: unknown, Genres: Animation|Childrens|Musical (1 being lowest and 5 being highest)\n",
      "====================================\n",
      "Thought 1: Based on the user's historical interactions, it seems that they have a preference for movies in the genres of Comedy, Drama, Romance, and Animation. They have given high ratings (4 or 5 stars) to movies like Liar Liar, Anne Frank Remembered, Sense and Sensibility, and Toy Story. Since The Lion King falls into the genres of Animation and Childrens, which align with the user's preferences, it is likely that user_821 will give it a high rating.\n",
      "Action 1: [answer] The user_821 is likely to give The Lion King a high rating, possibly 4 or 5 stars.\n",
      "Observation 1: Invalid Action. Valid Actions are Finish[<answer>].\n"
     ]
    }
   ],
   "source": [
    "# test one step\n",
    "\n",
    "agent = ReactAgent(agent_prompt=react_prompt,\n",
    "                react_examples=\"\", \n",
    "                actor_llm=react_llm)\n",
    "\n",
    "agent.set_data(input=test_data, context=\"\", gt_answer=\"1\")\n",
    "\n",
    "print(f'Init: {agent._build_agent_prompt()}')\n",
    "print(\"====================================\")\n",
    "agent.step()"
   ]
  },
  {
   "cell_type": "code",
   "execution_count": null,
   "metadata": {},
   "outputs": [],
   "source": []
  }
 ],
 "metadata": {
  "kernelspec": {
   "display_name": "Homework",
   "language": "python",
   "name": "python3"
  },
  "language_info": {
   "codemirror_mode": {
    "name": "ipython",
    "version": 3
   },
   "file_extension": ".py",
   "mimetype": "text/x-python",
   "name": "python",
   "nbconvert_exporter": "python",
   "pygments_lexer": "ipython3",
   "version": "3.8.18"
  }
 },
 "nbformat": 4,
 "nbformat_minor": 2
}
