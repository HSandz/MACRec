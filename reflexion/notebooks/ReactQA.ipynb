{
 "cells": [
  {
   "attachments": {},
   "cell_type": "markdown",
   "metadata": {},
   "source": [
    "#### Notebook for running React experiments"
   ]
  },
  {
   "cell_type": "code",
   "execution_count": 1,
   "metadata": {},
   "outputs": [],
   "source": [
    "import sys, os\n",
    "sys.path.append('..')\n",
    "root  = '../root/'"
   ]
  },
  {
   "cell_type": "code",
   "execution_count": 1,
   "metadata": {},
   "outputs": [
    {
     "name": "stdout",
     "output_type": "stream",
     "text": [
      "\n"
     ]
    }
   ],
   "source": [
    "import os \n",
    "\n",
    "os.environ['OPENAI_API_KEY'] = \"\"\n",
    "print(os.environ['OPENAI_API_KEY'])"
   ]
  },
  {
   "cell_type": "code",
   "execution_count": 4,
   "metadata": {},
   "outputs": [],
   "source": [
    "import joblib\n",
    "from util import summarize_react_trial, log_react_trial, save_agents\n",
    "from agents import ReactReflectAgent, ReactAgent, ReflexionStrategy"
   ]
  },
  {
   "attachments": {},
   "cell_type": "markdown",
   "metadata": {},
   "source": [
    "#### Load the HotpotQA Sample"
   ]
  },
  {
   "cell_type": "code",
   "execution_count": 5,
   "metadata": {},
   "outputs": [
    {
     "ename": "FileNotFoundError",
     "evalue": "[Errno 2] No such file or directory: '../data/hotpot-qa-distractor-sample.joblib'",
     "output_type": "error",
     "traceback": [
      "\u001b[0;31m---------------------------------------------------------------------------\u001b[0m",
      "\u001b[0;31mFileNotFoundError\u001b[0m                         Traceback (most recent call last)",
      "Input \u001b[0;32mIn [5]\u001b[0m, in \u001b[0;36m<cell line: 1>\u001b[0;34m()\u001b[0m\n\u001b[0;32m----> 1\u001b[0m hotpot \u001b[38;5;241m=\u001b[39m \u001b[43mjoblib\u001b[49m\u001b[38;5;241;43m.\u001b[39;49m\u001b[43mload\u001b[49m\u001b[43m(\u001b[49m\u001b[38;5;124;43m'\u001b[39;49m\u001b[38;5;124;43m../data/hotpot-qa-distractor-sample.joblib\u001b[39;49m\u001b[38;5;124;43m'\u001b[39;49m\u001b[43m)\u001b[49m\u001b[38;5;241m.\u001b[39mreset_index(drop \u001b[38;5;241m=\u001b[39m \u001b[38;5;28;01mTrue\u001b[39;00m)\n",
      "File \u001b[0;32m/work/yyq/miniconda3/envs/Homework/lib/python3.8/site-packages/joblib/numpy_pickle.py:650\u001b[0m, in \u001b[0;36mload\u001b[0;34m(filename, mmap_mode)\u001b[0m\n\u001b[1;32m    648\u001b[0m         obj \u001b[38;5;241m=\u001b[39m _unpickle(fobj)\n\u001b[1;32m    649\u001b[0m \u001b[38;5;28;01melse\u001b[39;00m:\n\u001b[0;32m--> 650\u001b[0m     \u001b[38;5;28;01mwith\u001b[39;00m \u001b[38;5;28;43mopen\u001b[39;49m\u001b[43m(\u001b[49m\u001b[43mfilename\u001b[49m\u001b[43m,\u001b[49m\u001b[43m \u001b[49m\u001b[38;5;124;43m'\u001b[39;49m\u001b[38;5;124;43mrb\u001b[39;49m\u001b[38;5;124;43m'\u001b[39;49m\u001b[43m)\u001b[49m \u001b[38;5;28;01mas\u001b[39;00m f:\n\u001b[1;32m    651\u001b[0m         \u001b[38;5;28;01mwith\u001b[39;00m _read_fileobject(f, filename, mmap_mode) \u001b[38;5;28;01mas\u001b[39;00m fobj:\n\u001b[1;32m    652\u001b[0m             \u001b[38;5;28;01mif\u001b[39;00m \u001b[38;5;28misinstance\u001b[39m(fobj, \u001b[38;5;28mstr\u001b[39m):\n\u001b[1;32m    653\u001b[0m                 \u001b[38;5;66;03m# if the returned file object is a string, this means we\u001b[39;00m\n\u001b[1;32m    654\u001b[0m                 \u001b[38;5;66;03m# try to load a pickle file generated with an version of\u001b[39;00m\n\u001b[1;32m    655\u001b[0m                 \u001b[38;5;66;03m# Joblib so we load it with joblib compatibility function.\u001b[39;00m\n",
      "\u001b[0;31mFileNotFoundError\u001b[0m: [Errno 2] No such file or directory: '../data/hotpot-qa-distractor-sample.joblib'"
     ]
    }
   ],
   "source": [
    "hotpot = joblib.load('../data/hotpot-qa-distractor-sample.joblib').reset_index(drop = True)"
   ]
  },
  {
   "attachments": {},
   "cell_type": "markdown",
   "metadata": {},
   "source": [
    "#### Define the Reflexion Strategy"
   ]
  },
  {
   "cell_type": "code",
   "execution_count": 29,
   "metadata": {},
   "outputs": [
    {
     "name": "stdout",
     "output_type": "stream",
     "text": [
      "\n",
      "    NONE: No reflection\n",
      "    LAST_ATTEMPT: Use last reasoning trace in context \n",
      "    REFLEXION: Apply reflexion to the next reasoning trace \n",
      "    LAST_ATTEMPT_AND_REFLEXION: Use last reasoning trace in context and apply reflexion to the next reasoning trace \n",
      "    \n"
     ]
    }
   ],
   "source": [
    "print(ReflexionStrategy.__doc__)"
   ]
  },
  {
   "cell_type": "code",
   "execution_count": 40,
   "metadata": {},
   "outputs": [],
   "source": [
    "strategy: ReflexionStrategy = ReflexionStrategy.REFLEXION"
   ]
  },
  {
   "attachments": {},
   "cell_type": "markdown",
   "metadata": {},
   "source": [
    "#### Initialize a React Agent for each question"
   ]
  },
  {
   "cell_type": "code",
   "execution_count": 41,
   "metadata": {},
   "outputs": [],
   "source": [
    "agent_cls = ReactReflectAgent if strategy != ReflexionStrategy.NONE else ReactAgent\n",
    "agents = [agent_cls(row['question'], row['answer']) for _, row in hotpot.iterrows()]"
   ]
  },
  {
   "attachments": {},
   "cell_type": "markdown",
   "metadata": {},
   "source": [
    "#### Run `n` trials"
   ]
  },
  {
   "cell_type": "code",
   "execution_count": 42,
   "metadata": {},
   "outputs": [],
   "source": [
    "n = 5\n",
    "trial = 0\n",
    "log = ''"
   ]
  },
  {
   "cell_type": "code",
   "execution_count": 33,
   "metadata": {},
   "outputs": [
    {
     "data": {
      "text/plain": [
       "100"
      ]
     },
     "execution_count": 33,
     "metadata": {},
     "output_type": "execute_result"
    }
   ],
   "source": [
    "len(agents)"
   ]
  },
  {
   "cell_type": "code",
   "execution_count": 43,
   "metadata": {},
   "outputs": [
    {
     "name": "stdout",
     "output_type": "stream",
     "text": [
      "Thought 1: I need to search VIVA Media AG and find out their new acronym.\n",
      "Action 1: Search[VIVA Media AG]\n",
      "HTTPConnectionPool(host='en.wikipedia.org', port=80): Max retries exceeded with url: /w/api.php?list=search&srprop=&srlimit=1&limit=1&srsearch=VIVA+Media+AG&srinfo=suggestion&format=json&action=query (Caused by NewConnectionError('<urllib3.connection.HTTPConnection object at 0x7f817dbea370>: Failed to establish a new connection: [Errno 101] Network is unreachable'))\n",
      "Observation 1: Could not find that page, please try again.\n",
      "Thought 2: I couldn't find the page for VIVA Media AG. I should try searching for similar entities.\n",
      "Action 2: Search[similar entities to VIVA Media AG]\n",
      "HTTPConnectionPool(host='en.wikipedia.org', port=80): Max retries exceeded with url: /w/api.php?list=search&srprop=&srlimit=1&limit=1&srsearch=similar+entities+to+VIVA+Media+AG&srinfo=suggestion&format=json&action=query (Caused by NewConnectionError('<urllib3.connection.HTTPConnection object at 0x7f817de32dc0>: Failed to establish a new connection: [Errno 101] Network is unreachable'))\n",
      "Observation 2: Could not find that page, please try again.\n",
      "Thought 3: I still couldn't find the page for VIVA Media AG or any similar entities. I need to try a different approach.\n",
      "Action 3: Search[VIVA Media AG name change]\n",
      "HTTPConnectionPool(host='en.wikipedia.org', port=80): Max retries exceeded with url: /w/api.php?list=search&srprop=&srlimit=1&limit=1&srsearch=VIVA+Media+AG+name+change&srinfo=suggestion&format=json&action=query (Caused by NewConnectionError('<urllib3.connection.HTTPConnection object at 0x7f817de32040>: Failed to establish a new connection: [Errno 101] Network is unreachable'))\n",
      "Observation 3: Could not find that page, please try again.\n",
      "Thought 4: I still couldn't find any information about the name change of VIVA Media AG. I should try searching for news articles or press releases about the company's name change in 2004.\n",
      "Action 4: Search[VIVA Media AG name change news articles 2004]\n",
      "HTTPConnectionPool(host='en.wikipedia.org', port=80): Max retries exceeded with url: /w/api.php?list=search&srprop=&srlimit=1&limit=1&srsearch=VIVA+Media+AG+name+change+news+articles+2004&srinfo=suggestion&format=json&action=query (Caused by NewConnectionError('<urllib3.connection.HTTPConnection object at 0x7f817dbea310>: Failed to establish a new connection: [Errno 101] Network is unreachable'))\n",
      "Observation 4: Could not find that page, please try again.\n",
      "Thought 5: I have exhausted all my search options and still couldn't find the information about the name change of VIVA Media AG. I need to apologize and inform the user that I couldn't find the answer.\n",
      "Action 5: Finish[Apologies, I couldn't find the information about the new acronym for VIVA Media AG.]\n",
      "Answer: Gesellschaft mit beschränkter Haftung\n",
      "Thought 1: I need to search Jonny Craig and Pete Doherty, find the bands they have been a member of, and compare the number of bands.\n",
      "Action 1: Search[Jonny Craig]\n",
      "HTTPConnectionPool(host='en.wikipedia.org', port=80): Max retries exceeded with url: /w/api.php?list=search&srprop=&srlimit=1&limit=1&srsearch=Jonny+Craig&srinfo=suggestion&format=json&action=query (Caused by NewConnectionError('<urllib3.connection.HTTPConnection object at 0x7f81fb245b80>: Failed to establish a new connection: [Errno 101] Network is unreachable'))\n",
      "Observation 1: Could not find that page, please try again.\n",
      "Thought 2: I couldn't find any information on Jonny Craig. I should try searching Pete Doherty instead.\n",
      "Action 2: Search[Pete Doherty]\n",
      "HTTPConnectionPool(host='en.wikipedia.org', port=80): Max retries exceeded with url: /w/api.php?list=search&srprop=&srlimit=1&limit=1&srsearch=Pete+Doherty&srinfo=suggestion&format=json&action=query (Caused by NewConnectionError('<urllib3.connection.HTTPConnection object at 0x7f81fb2456d0>: Failed to establish a new connection: [Errno 101] Network is unreachable'))\n",
      "Observation 2: Could not find that page, please try again.\n",
      "Thought 3: I couldn't find any information on Pete Doherty either. Since I couldn't find any information on either Jonny Craig or Pete Doherty, I can't determine which of them has been a member of more bands.\n",
      "Action 3: Finish[unknown]\n",
      "Answer: Jonny\" Craig\n",
      "Thought 1: I need to search The Missouri Compromise and find out where the first governor after it was from.\n",
      "Action 1: Search[The Missouri Compromise]\n",
      "HTTPConnectionPool(host='en.wikipedia.org', port=80): Max retries exceeded with url: /w/api.php?list=search&srprop=&srlimit=1&limit=1&srsearch=The+Missouri+Compromise&srinfo=suggestion&format=json&action=query (Caused by NewConnectionError('<urllib3.connection.HTTPConnection object at 0x7f81fb470a60>: Failed to establish a new connection: [Errno 101] Network is unreachable'))\n",
      "Observation 1: Could not find that page, please try again.\n",
      "Thought 2: I couldn't find information on The Missouri Compromise. I should try searching for similar entities.\n",
      "Action 2: Search[similar entities to The Missouri Compromise]\n",
      "HTTPConnectionPool(host='en.wikipedia.org', port=80): Max retries exceeded with url: /w/api.php?list=search&srprop=&srlimit=1&limit=1&srsearch=similar+entities+to+The+Missouri+Compromise&srinfo=suggestion&format=json&action=query (Caused by NewConnectionError('<urllib3.connection.HTTPConnection object at 0x7f81fb245760>: Failed to establish a new connection: [Errno 101] Network is unreachable'))\n",
      "Observation 2: Could not find that page, please try again.\n",
      "Thought 3: I still couldn't find information on The Missouri Compromise. I should try searching for the first governor after it.\n",
      "Action 3: Search[first governor after The Missouri Compromise]\n",
      "HTTPConnectionPool(host='en.wikipedia.org', port=80): Max retries exceeded with url: /w/api.php?list=search&srprop=&srlimit=1&limit=1&srsearch=first+governor+after+The+Missouri+Compromise&srinfo=suggestion&format=json&action=query (Caused by NewConnectionError('<urllib3.connection.HTTPConnection object at 0x7f81fb2455b0>: Failed to establish a new connection: [Errno 101] Network is unreachable'))\n",
      "Observation 3: Could not find that page, please try again.\n",
      "Thought 4: I couldn't find information on the first governor after The Missouri Compromise either. I should try searching for the first governor of Missouri instead.\n",
      "Action 4: Search[first governor of Missouri]\n",
      "HTTPConnectionPool(host='en.wikipedia.org', port=80): Max retries exceeded with url: /w/api.php?list=search&srprop=&srlimit=1&limit=1&srsearch=first+governor+of+Missouri&srinfo=suggestion&format=json&action=query (Caused by NewConnectionError('<urllib3.connection.HTTPConnection object at 0x7f817dbea0a0>: Failed to establish a new connection: [Errno 101] Network is unreachable'))\n",
      "Observation 4: Could not find that page, please try again.\n",
      "Thought 5: I couldn't find information on the first governor after The Missouri Compromise or the first governor of Missouri. I should try searching for the governors of Missouri during the time of The Missouri Compromise.\n",
      "Action 5: Search[governors of Missouri during The Missouri Compromise]\n",
      "HTTPConnectionPool(host='en.wikipedia.org', port=80): Max retries exceeded with url: /w/api.php?list=search&srprop=&srlimit=1&limit=1&srsearch=governors+of+Missouri+during+The+Missouri+Compromise&srinfo=suggestion&format=json&action=query (Caused by NewConnectionError('<urllib3.connection.HTTPConnection object at 0x7f817dbea1f0>: Failed to establish a new connection: [Errno 101] Network is unreachable'))\n",
      "Observation 5: Could not find that page, please try again.\n",
      "Thought 6: I still couldn't find the information I need. I should try searching for the governors of Missouri during the time period around The Missouri Compromise.\n",
      "Action 6: Search[governors of Missouri around The Missouri Compromise]\n",
      "HTTPConnectionPool(host='en.wikipedia.org', port=80): Max retries exceeded with url: /w/api.php?list=search&srprop=&srlimit=1&limit=1&srsearch=governors+of+Missouri+around+The+Missouri+Compromise&srinfo=suggestion&format=json&action=query (Caused by NewConnectionError('<urllib3.connection.HTTPConnection object at 0x7f81fb2c7ca0>: Failed to establish a new connection: [Errno 101] Network is unreachable'))\n",
      "Observation 6: Could not find that page, please try again.\n",
      "Answer: Bath, Maine\n",
      "Thought 1: I need to search the creator of \"Wallace and Gromit\" and find the animation comedy that matches animated zoo animals with a soundtrack of people talking about their homes.\n",
      "Action 1: Search[creator of \"Wallace and Gromit\"]\n",
      "HTTPConnectionPool(host='en.wikipedia.org', port=80): Max retries exceeded with url: /w/api.php?list=search&srprop=&srlimit=1&limit=1&srsearch=creator+of+%22Wallace+and+Gromit%22&srinfo=suggestion&format=json&action=query (Caused by NewConnectionError('<urllib3.connection.HTTPConnection object at 0x7f817dbea6a0>: Failed to establish a new connection: [Errno 101] Network is unreachable'))\n",
      "Observation 1: Could not find that page, please try again.\n",
      "Thought 2: I couldn't find the page for the creator of \"Wallace and Gromit\". I should try searching for \"Wallace and Gromit\" instead.\n",
      "Action 2: Search[\"Wallace and Gromit\"]\n"
     ]
    }
   ],
   "source": [
    "for i in range(n):\n",
    "    for agent in [a for a in agents if not a.is_correct()]:\n",
    "        if strategy != ReflexionStrategy.NONE:\n",
    "            agent.run(reflect_strategy = strategy)\n",
    "        else:\n",
    "            agent.run()\n",
    "        print(f'Answer: {agent.key}')\n",
    "    trial += 1\n",
    "    log += log_react_trial(agents, trial)\n",
    "    correct, incorrect, halted = summarize_react_trial(agents)\n",
    "    print(f'Finished Trial {trial}, Correct: {len(correct)}, Incorrect: {len(incorrect)}, Halted: {len(halted)}')"
   ]
  },
  {
   "cell_type": "code",
   "execution_count": null,
   "metadata": {},
   "outputs": [],
   "source": []
  },
  {
   "attachments": {},
   "cell_type": "markdown",
   "metadata": {},
   "source": [
    "#### Save the result log"
   ]
  },
  {
   "cell_type": "code",
   "execution_count": null,
   "metadata": {},
   "outputs": [],
   "source": [
    "with open(os.path.join(root, 'ReAct', strategy.value, f'{len(agents)}_questions_{trial}_trials.txt'), 'w') as f:\n",
    "    f.write(log)\n",
    "save_agents(agents, os.path.join('ReAct', strategy.value, 'agents'))"
   ]
  }
 ],
 "metadata": {
  "kernelspec": {
   "display_name": "env",
   "language": "python",
   "name": "python3"
  },
  "language_info": {
   "codemirror_mode": {
    "name": "ipython",
    "version": 3
   },
   "file_extension": ".py",
   "mimetype": "text/x-python",
   "name": "python",
   "nbconvert_exporter": "python",
   "pygments_lexer": "ipython3",
   "version": "3.8.18"
  },
  "orig_nbformat": 4,
  "vscode": {
   "interpreter": {
    "hash": "e23f799cbd2581634725fbf6ce3480ae26192d78438dfafc8efe944acd6490d5"
   }
  }
 },
 "nbformat": 4,
 "nbformat_minor": 2
}
